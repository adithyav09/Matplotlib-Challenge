{
 "cells": [
  {
   "cell_type": "markdown",
   "metadata": {},
   "source": [
    "## Observations and Insights "
   ]
  },
  {
   "cell_type": "markdown",
   "metadata": {},
   "source": [
    "- For the mice that received Capomulin treatment there seems to be a strong positive correlation of 0.88 between average weight and average tumor volume (mm3). This depicts that an increase in average weight also reflects an increase in average tumor volume (mm3). This is true because the regression line displays this positive correlation and how the datapoints deviate from it.\n",
    "- Looking at the 5 number summary (Box Plot) mice that were treated with infubinol and ceftamin had an higher median of tumor volume of roughly 60 mm3. Whereas mice that were treated with Capomulin and Ramicane displayed lower median tumor volume between a range of 36 to 39 mm3. However, there was an instance of a mouse treated with Ramicane and displayed symptoms of lower tumor volume of 35 mm3.\n",
    "- The overall IQR of Capomulin and Ramicane range was in the lower tumor volume (mm3) whereas ceftamin and infubinol were placed in higher tumor volume (mm3). Ceftamin had the largest IQR out of the 4 box plots. Also the full range for Capomulin and Ramicane never extended into ceftamin and infubinol full range. "
   ]
  },
  {
   "cell_type": "code",
   "execution_count": 18,
   "metadata": {},
   "outputs": [
    {
     "data": {
      "text/html": [
       "<div>\n",
       "<style scoped>\n",
       "    .dataframe tbody tr th:only-of-type {\n",
       "        vertical-align: middle;\n",
       "    }\n",
       "\n",
       "    .dataframe tbody tr th {\n",
       "        vertical-align: top;\n",
       "    }\n",
       "\n",
       "    .dataframe thead th {\n",
       "        text-align: right;\n",
       "    }\n",
       "</style>\n",
       "<table border=\"1\" class=\"dataframe\">\n",
       "  <thead>\n",
       "    <tr style=\"text-align: right;\">\n",
       "      <th></th>\n",
       "      <th>Mouse ID</th>\n",
       "      <th>Drug Regimen</th>\n",
       "      <th>Sex</th>\n",
       "      <th>Age_months</th>\n",
       "      <th>Weight (g)</th>\n",
       "      <th>Timepoint</th>\n",
       "      <th>Tumor Volume (mm3)</th>\n",
       "      <th>Metastatic Sites</th>\n",
       "    </tr>\n",
       "  </thead>\n",
       "  <tbody>\n",
       "    <tr>\n",
       "      <th>0</th>\n",
       "      <td>k403</td>\n",
       "      <td>Ramicane</td>\n",
       "      <td>Male</td>\n",
       "      <td>21</td>\n",
       "      <td>16</td>\n",
       "      <td>0</td>\n",
       "      <td>45.000000</td>\n",
       "      <td>0</td>\n",
       "    </tr>\n",
       "    <tr>\n",
       "      <th>1</th>\n",
       "      <td>k403</td>\n",
       "      <td>Ramicane</td>\n",
       "      <td>Male</td>\n",
       "      <td>21</td>\n",
       "      <td>16</td>\n",
       "      <td>5</td>\n",
       "      <td>38.825898</td>\n",
       "      <td>0</td>\n",
       "    </tr>\n",
       "    <tr>\n",
       "      <th>2</th>\n",
       "      <td>k403</td>\n",
       "      <td>Ramicane</td>\n",
       "      <td>Male</td>\n",
       "      <td>21</td>\n",
       "      <td>16</td>\n",
       "      <td>10</td>\n",
       "      <td>35.014271</td>\n",
       "      <td>1</td>\n",
       "    </tr>\n",
       "    <tr>\n",
       "      <th>3</th>\n",
       "      <td>k403</td>\n",
       "      <td>Ramicane</td>\n",
       "      <td>Male</td>\n",
       "      <td>21</td>\n",
       "      <td>16</td>\n",
       "      <td>15</td>\n",
       "      <td>34.223992</td>\n",
       "      <td>1</td>\n",
       "    </tr>\n",
       "    <tr>\n",
       "      <th>4</th>\n",
       "      <td>k403</td>\n",
       "      <td>Ramicane</td>\n",
       "      <td>Male</td>\n",
       "      <td>21</td>\n",
       "      <td>16</td>\n",
       "      <td>20</td>\n",
       "      <td>32.997729</td>\n",
       "      <td>1</td>\n",
       "    </tr>\n",
       "  </tbody>\n",
       "</table>\n",
       "</div>"
      ],
      "text/plain": [
       "  Mouse ID Drug Regimen   Sex  Age_months  Weight (g)  Timepoint  \\\n",
       "0     k403     Ramicane  Male          21          16          0   \n",
       "1     k403     Ramicane  Male          21          16          5   \n",
       "2     k403     Ramicane  Male          21          16         10   \n",
       "3     k403     Ramicane  Male          21          16         15   \n",
       "4     k403     Ramicane  Male          21          16         20   \n",
       "\n",
       "   Tumor Volume (mm3)  Metastatic Sites  \n",
       "0           45.000000                 0  \n",
       "1           38.825898                 0  \n",
       "2           35.014271                 1  \n",
       "3           34.223992                 1  \n",
       "4           32.997729                 1  "
      ]
     },
     "execution_count": 18,
     "metadata": {},
     "output_type": "execute_result"
    }
   ],
   "source": [
    "# Dependencies and Setup.\n",
    "import matplotlib.pyplot as plt\n",
    "import numpy as np\n",
    "import pandas as pd\n",
    "import scipy.stats as st\n",
    "\n",
    "# Study data files\n",
    "mouse_metadata_path = \"data/Mouse_metadata.csv\"\n",
    "study_results_path = \"data/Study_results.csv\"\n",
    "\n",
    "# Read the mouse data and the study results\n",
    "mouse_metadata = pd.read_csv(mouse_metadata_path)\n",
    "study_results = pd.read_csv(study_results_path)\n",
    "\n",
    "# Combine the data into a single dataset\n",
    "mouse_data = pd.merge(mouse_metadata, study_results)\n",
    "\n",
    "# Display the data table for preview\n",
    "mouse_data.head()"
   ]
  },
  {
   "cell_type": "code",
   "execution_count": 19,
   "metadata": {},
   "outputs": [
    {
     "data": {
      "text/plain": [
       "1893"
      ]
     },
     "execution_count": 19,
     "metadata": {},
     "output_type": "execute_result"
    }
   ],
   "source": [
    "# Checking the number of mice.\n",
    "mouse_data['Mouse ID'].count()"
   ]
  },
  {
   "cell_type": "code",
   "execution_count": 20,
   "metadata": {},
   "outputs": [
    {
     "data": {
      "text/plain": [
       "5"
      ]
     },
     "execution_count": 20,
     "metadata": {},
     "output_type": "execute_result"
    }
   ],
   "source": [
    "# Getting the duplicate mice by ID number that shows up for Mouse ID and Timepoint. \n",
    "mouse_data.duplicated(subset = ['Mouse ID','Timepoint']).sum()"
   ]
  },
  {
   "cell_type": "code",
   "execution_count": 21,
   "metadata": {},
   "outputs": [
    {
     "data": {
      "text/html": [
       "<div>\n",
       "<style scoped>\n",
       "    .dataframe tbody tr th:only-of-type {\n",
       "        vertical-align: middle;\n",
       "    }\n",
       "\n",
       "    .dataframe tbody tr th {\n",
       "        vertical-align: top;\n",
       "    }\n",
       "\n",
       "    .dataframe thead th {\n",
       "        text-align: right;\n",
       "    }\n",
       "</style>\n",
       "<table border=\"1\" class=\"dataframe\">\n",
       "  <thead>\n",
       "    <tr style=\"text-align: right;\">\n",
       "      <th></th>\n",
       "      <th>Mouse ID</th>\n",
       "      <th>Drug Regimen</th>\n",
       "      <th>Sex</th>\n",
       "      <th>Age_months</th>\n",
       "      <th>Weight (g)</th>\n",
       "      <th>Timepoint</th>\n",
       "      <th>Tumor Volume (mm3)</th>\n",
       "      <th>Metastatic Sites</th>\n",
       "    </tr>\n",
       "  </thead>\n",
       "  <tbody>\n",
       "    <tr>\n",
       "      <th>909</th>\n",
       "      <td>g989</td>\n",
       "      <td>Propriva</td>\n",
       "      <td>Female</td>\n",
       "      <td>21</td>\n",
       "      <td>26</td>\n",
       "      <td>0</td>\n",
       "      <td>45.000000</td>\n",
       "      <td>0</td>\n",
       "    </tr>\n",
       "    <tr>\n",
       "      <th>911</th>\n",
       "      <td>g989</td>\n",
       "      <td>Propriva</td>\n",
       "      <td>Female</td>\n",
       "      <td>21</td>\n",
       "      <td>26</td>\n",
       "      <td>5</td>\n",
       "      <td>47.570392</td>\n",
       "      <td>0</td>\n",
       "    </tr>\n",
       "    <tr>\n",
       "      <th>913</th>\n",
       "      <td>g989</td>\n",
       "      <td>Propriva</td>\n",
       "      <td>Female</td>\n",
       "      <td>21</td>\n",
       "      <td>26</td>\n",
       "      <td>10</td>\n",
       "      <td>49.880528</td>\n",
       "      <td>0</td>\n",
       "    </tr>\n",
       "    <tr>\n",
       "      <th>915</th>\n",
       "      <td>g989</td>\n",
       "      <td>Propriva</td>\n",
       "      <td>Female</td>\n",
       "      <td>21</td>\n",
       "      <td>26</td>\n",
       "      <td>15</td>\n",
       "      <td>53.442020</td>\n",
       "      <td>0</td>\n",
       "    </tr>\n",
       "    <tr>\n",
       "      <th>917</th>\n",
       "      <td>g989</td>\n",
       "      <td>Propriva</td>\n",
       "      <td>Female</td>\n",
       "      <td>21</td>\n",
       "      <td>26</td>\n",
       "      <td>20</td>\n",
       "      <td>54.657650</td>\n",
       "      <td>1</td>\n",
       "    </tr>\n",
       "  </tbody>\n",
       "</table>\n",
       "</div>"
      ],
      "text/plain": [
       "    Mouse ID Drug Regimen     Sex  Age_months  Weight (g)  Timepoint  \\\n",
       "909     g989     Propriva  Female          21          26          0   \n",
       "911     g989     Propriva  Female          21          26          5   \n",
       "913     g989     Propriva  Female          21          26         10   \n",
       "915     g989     Propriva  Female          21          26         15   \n",
       "917     g989     Propriva  Female          21          26         20   \n",
       "\n",
       "     Tumor Volume (mm3)  Metastatic Sites  \n",
       "909           45.000000                 0  \n",
       "911           47.570392                 0  \n",
       "913           49.880528                 0  \n",
       "915           53.442020                 0  \n",
       "917           54.657650                 1  "
      ]
     },
     "execution_count": 21,
     "metadata": {},
     "output_type": "execute_result"
    }
   ],
   "source": [
    "# Optional: Get all the data for the duplicate mouse ID. \n",
    "mouse_data.loc[mouse_data[['Mouse ID','Timepoint']].duplicated(), :]"
   ]
  },
  {
   "cell_type": "code",
   "execution_count": 22,
   "metadata": {},
   "outputs": [],
   "source": [
    "# Create a clean DataFrame by dropping the duplicate mouse by its ID.\n",
    "new_mouse_data = mouse_data.drop_duplicates(keep = \"first\", subset = ['Mouse ID', 'Timepoint'])"
   ]
  },
  {
   "cell_type": "code",
   "execution_count": 23,
   "metadata": {},
   "outputs": [
    {
     "data": {
      "text/plain": [
       "1888"
      ]
     },
     "execution_count": 23,
     "metadata": {},
     "output_type": "execute_result"
    }
   ],
   "source": [
    "# Checking the number of mice in the clean DataFrame.\n",
    "new_mouse_data['Mouse ID'].count()"
   ]
  },
  {
   "cell_type": "markdown",
   "metadata": {},
   "source": [
    "## Summary Statistics"
   ]
  },
  {
   "cell_type": "code",
   "execution_count": 24,
   "metadata": {},
   "outputs": [
    {
     "data": {
      "text/html": [
       "<div>\n",
       "<style scoped>\n",
       "    .dataframe tbody tr th:only-of-type {\n",
       "        vertical-align: middle;\n",
       "    }\n",
       "\n",
       "    .dataframe tbody tr th {\n",
       "        vertical-align: top;\n",
       "    }\n",
       "\n",
       "    .dataframe thead th {\n",
       "        text-align: right;\n",
       "    }\n",
       "</style>\n",
       "<table border=\"1\" class=\"dataframe\">\n",
       "  <thead>\n",
       "    <tr style=\"text-align: right;\">\n",
       "      <th></th>\n",
       "      <th>Mean</th>\n",
       "      <th>Median</th>\n",
       "      <th>Variance</th>\n",
       "      <th>Standard Deviation</th>\n",
       "      <th>SEM (Standard Error of Mean)</th>\n",
       "    </tr>\n",
       "  </thead>\n",
       "  <tbody>\n",
       "    <tr>\n",
       "      <th>0</th>\n",
       "      <td>50.449276</td>\n",
       "      <td>48.951421</td>\n",
       "      <td>79.291277</td>\n",
       "      <td>8.904565</td>\n",
       "      <td>0.204933</td>\n",
       "    </tr>\n",
       "  </tbody>\n",
       "</table>\n",
       "</div>"
      ],
      "text/plain": [
       "        Mean     Median   Variance  Standard Deviation  \\\n",
       "0  50.449276  48.951421  79.291277            8.904565   \n",
       "\n",
       "   SEM (Standard Error of Mean)  \n",
       "0                      0.204933  "
      ]
     },
     "execution_count": 24,
     "metadata": {},
     "output_type": "execute_result"
    }
   ],
   "source": [
    "# Generate a summary statistics table of mean, median, variance, standard deviation, and SEM of the tumor volume for each regimen.\n",
    "# This method is the most straighforward, creating multiple series and putting them all together at the end.\n",
    "Summary_Statistics_TV = pd.DataFrame({'Mean':new_mouse_data['Tumor Volume (mm3)'].mean(),\n",
    "             'Median':new_mouse_data['Tumor Volume (mm3)'].median(), \n",
    "             'Variance': new_mouse_data['Tumor Volume (mm3)'].var(),\n",
    "             'Standard Deviation':new_mouse_data['Tumor Volume (mm3)'].std(),\n",
    "             'SEM (Standard Error of Mean)':new_mouse_data['Tumor Volume (mm3)'].sem(),}, index = [0])\n",
    "\n",
    "Summary_Statistics_TV"
   ]
  },
  {
   "cell_type": "code",
   "execution_count": 25,
   "metadata": {},
   "outputs": [
    {
     "data": {
      "text/html": [
       "<div>\n",
       "<style scoped>\n",
       "    .dataframe tbody tr th:only-of-type {\n",
       "        vertical-align: middle;\n",
       "    }\n",
       "\n",
       "    .dataframe tbody tr th {\n",
       "        vertical-align: top;\n",
       "    }\n",
       "\n",
       "    .dataframe thead th {\n",
       "        text-align: right;\n",
       "    }\n",
       "</style>\n",
       "<table border=\"1\" class=\"dataframe\">\n",
       "  <thead>\n",
       "    <tr style=\"text-align: right;\">\n",
       "      <th></th>\n",
       "      <th>Mean</th>\n",
       "      <th>Median</th>\n",
       "      <th>Variance</th>\n",
       "      <th>Standard Deviation</th>\n",
       "      <th>SEM (Standard Error of Mean)</th>\n",
       "    </tr>\n",
       "    <tr>\n",
       "      <th>Drug Regimen</th>\n",
       "      <th></th>\n",
       "      <th></th>\n",
       "      <th></th>\n",
       "      <th></th>\n",
       "      <th></th>\n",
       "    </tr>\n",
       "  </thead>\n",
       "  <tbody>\n",
       "    <tr>\n",
       "      <th>Capomulin</th>\n",
       "      <td>40.675741</td>\n",
       "      <td>41.557809</td>\n",
       "      <td>24.947764</td>\n",
       "      <td>4.994774</td>\n",
       "      <td>0.329346</td>\n",
       "    </tr>\n",
       "    <tr>\n",
       "      <th>Ceftamin</th>\n",
       "      <td>52.591172</td>\n",
       "      <td>51.776157</td>\n",
       "      <td>39.290177</td>\n",
       "      <td>6.268188</td>\n",
       "      <td>0.469821</td>\n",
       "    </tr>\n",
       "    <tr>\n",
       "      <th>Infubinol</th>\n",
       "      <td>52.884795</td>\n",
       "      <td>51.820584</td>\n",
       "      <td>43.128684</td>\n",
       "      <td>6.567243</td>\n",
       "      <td>0.492236</td>\n",
       "    </tr>\n",
       "    <tr>\n",
       "      <th>Ketapril</th>\n",
       "      <td>55.235638</td>\n",
       "      <td>53.698743</td>\n",
       "      <td>68.553577</td>\n",
       "      <td>8.279709</td>\n",
       "      <td>0.603860</td>\n",
       "    </tr>\n",
       "    <tr>\n",
       "      <th>Naftisol</th>\n",
       "      <td>54.331565</td>\n",
       "      <td>52.509285</td>\n",
       "      <td>66.173479</td>\n",
       "      <td>8.134708</td>\n",
       "      <td>0.596466</td>\n",
       "    </tr>\n",
       "    <tr>\n",
       "      <th>Placebo</th>\n",
       "      <td>54.033581</td>\n",
       "      <td>52.288934</td>\n",
       "      <td>61.168083</td>\n",
       "      <td>7.821003</td>\n",
       "      <td>0.581331</td>\n",
       "    </tr>\n",
       "    <tr>\n",
       "      <th>Propriva</th>\n",
       "      <td>52.393463</td>\n",
       "      <td>50.909965</td>\n",
       "      <td>43.138803</td>\n",
       "      <td>6.568014</td>\n",
       "      <td>0.525862</td>\n",
       "    </tr>\n",
       "    <tr>\n",
       "      <th>Ramicane</th>\n",
       "      <td>40.216745</td>\n",
       "      <td>40.673236</td>\n",
       "      <td>23.486704</td>\n",
       "      <td>4.846308</td>\n",
       "      <td>0.320955</td>\n",
       "    </tr>\n",
       "    <tr>\n",
       "      <th>Stelasyn</th>\n",
       "      <td>54.233149</td>\n",
       "      <td>52.431737</td>\n",
       "      <td>59.450562</td>\n",
       "      <td>7.710419</td>\n",
       "      <td>0.573111</td>\n",
       "    </tr>\n",
       "    <tr>\n",
       "      <th>Zoniferol</th>\n",
       "      <td>53.236507</td>\n",
       "      <td>51.818479</td>\n",
       "      <td>48.533355</td>\n",
       "      <td>6.966589</td>\n",
       "      <td>0.516398</td>\n",
       "    </tr>\n",
       "  </tbody>\n",
       "</table>\n",
       "</div>"
      ],
      "text/plain": [
       "                   Mean     Median   Variance  Standard Deviation  \\\n",
       "Drug Regimen                                                        \n",
       "Capomulin     40.675741  41.557809  24.947764            4.994774   \n",
       "Ceftamin      52.591172  51.776157  39.290177            6.268188   \n",
       "Infubinol     52.884795  51.820584  43.128684            6.567243   \n",
       "Ketapril      55.235638  53.698743  68.553577            8.279709   \n",
       "Naftisol      54.331565  52.509285  66.173479            8.134708   \n",
       "Placebo       54.033581  52.288934  61.168083            7.821003   \n",
       "Propriva      52.393463  50.909965  43.138803            6.568014   \n",
       "Ramicane      40.216745  40.673236  23.486704            4.846308   \n",
       "Stelasyn      54.233149  52.431737  59.450562            7.710419   \n",
       "Zoniferol     53.236507  51.818479  48.533355            6.966589   \n",
       "\n",
       "              SEM (Standard Error of Mean)  \n",
       "Drug Regimen                                \n",
       "Capomulin                         0.329346  \n",
       "Ceftamin                          0.469821  \n",
       "Infubinol                         0.492236  \n",
       "Ketapril                          0.603860  \n",
       "Naftisol                          0.596466  \n",
       "Placebo                           0.581331  \n",
       "Propriva                          0.525862  \n",
       "Ramicane                          0.320955  \n",
       "Stelasyn                          0.573111  \n",
       "Zoniferol                         0.516398  "
      ]
     },
     "execution_count": 25,
     "metadata": {},
     "output_type": "execute_result"
    }
   ],
   "source": [
    "# Generate a summary statistics table of mean, median, variance, standard deviation, and SEM of the tumor volume \n",
    "#for each regimen.\n",
    "# This method produces everything in a single groupby function.\n",
    "Drug_Regimen_Groupby = new_mouse_data.groupby(\"Drug Regimen\")\n",
    "\n",
    "mean = Drug_Regimen_Groupby['Tumor Volume (mm3)'].mean()\n",
    "median = Drug_Regimen_Groupby['Tumor Volume (mm3)'].median()\n",
    "variance = Drug_Regimen_Groupby['Tumor Volume (mm3)'].var()\n",
    "std_dev = Drug_Regimen_Groupby['Tumor Volume (mm3)'].std()\n",
    "std_err_m = Drug_Regimen_Groupby['Tumor Volume (mm3)'].sem()\n",
    "\n",
    "#Added values into Dataframe.\n",
    "Summary_Statistics_TV_Groupby = pd.DataFrame({'Mean': mean, \n",
    "                                              'Median': median, \n",
    "                                              'Variance': variance,\n",
    "                                              'Standard Deviation': std_dev, \n",
    "                                              'SEM (Standard Error of Mean)':std_err_m})\n",
    "\n",
    "Summary_Statistics_TV_Groupby"
   ]
  },
  {
   "cell_type": "markdown",
   "metadata": {},
   "source": [
    "## Bar and Pie Charts"
   ]
  },
  {
   "cell_type": "code",
   "execution_count": 26,
   "metadata": {},
   "outputs": [
    {
     "data": {
      "image/png": "[encoded data removed]",
      "text/plain": [
       "<Figure size 432x288 with 1 Axes>"
      ]
     },
     "metadata": {
      "needs_background": "light"
     },
     "output_type": "display_data"
    }
   ],
   "source": [
    "# Generate a bar plot showing the total number of mice for each treatment throughout the course of the study using pandas.\n",
    "\n",
    "#Used groupby then plotted the groupby dataframe using pandas plot.\n",
    "new_mouse_data_groupby = new_mouse_data.groupby('Drug Regimen').count()['Mouse ID']\n",
    "new_mouse_data_groupby.plot(kind = 'bar', color = 'red')\n",
    "\n",
    "#Labels:\n",
    "plt.title('Count of Mice by Drug Regimen')\n",
    "plt.ylabel('Number of Mice')\n",
    "\n",
    "plt.show()"
   ]
  },
  {
   "cell_type": "code",
   "execution_count": 27,
   "metadata": {},
   "outputs": [
    {
     "data": {
      "image/png": "[encoded data removed]",
      "text/plain": [
       "<Figure size 432x288 with 1 Axes>"
      ]
     },
     "metadata": {
      "needs_background": "light"
     },
     "output_type": "display_data"
    }
   ],
   "source": [
    "# Generate a bar plot showing the total number of mice for each treatment throughout the course of the study using pyplot.\n",
    "\n",
    "#Found all the unique 'Drug Regimens' then used numpy function 'arange' to find the length.\n",
    "#Used a groupby from original dataframe to get all the 'Mouse ID' by 'Drug Regimen'.\n",
    "#Then used groupby 'Drug Regimen' and counted the mice based off each category and set y-values.\n",
    "x_ticks = new_mouse_data['Drug Regimen'].unique()\n",
    "x_val = np.arange(0, len(new_mouse_data['Drug Regimen'].unique()))\n",
    "y_val = new_mouse_data.groupby('Drug Regimen')['Mouse ID'].count()\n",
    "\n",
    "#Labels:\n",
    "plt.bar(x_val, y_val, color = 'Red')\n",
    "plt.title('Count of Mice by Drug Regimen')\n",
    "plt.xlabel('Drug Regimen')\n",
    "plt.ylabel('Number of Mice')\n",
    "\n",
    "#Used x_val as variable for the ticks and x_ticks as labels which were pulled from dataframe.\n",
    "plt.xticks(ticks = x_val, labels = x_ticks , rotation = 50)\n",
    "\n",
    "plt.show()"
   ]
  },
  {
   "cell_type": "code",
   "execution_count": 28,
   "metadata": {},
   "outputs": [
    {
     "data": {
      "image/png": "[encoded data removed]",
      "text/plain": [
       "<Figure size 288x576 with 1 Axes>"
      ]
     },
     "metadata": {},
     "output_type": "display_data"
    }
   ],
   "source": [
    "# Generate a pie plot showing the distribution of female versus male mice using pandas\n",
    "new_mouse_data_groupby = new_mouse_data.groupby('Sex').count()['Mouse ID']\n",
    "new_mouse_data_groupby.plot(kind = 'pie', figsize = (4,8), autopct = '%1.1f%%' , \n",
    "                            fontsize = 11.5, colormap = 'summer')\n",
    "plt.ylabel(\"Mice Gender Distribution\")\n",
    "plt.show()"
   ]
  },
  {
   "cell_type": "code",
   "execution_count": 29,
   "metadata": {},
   "outputs": [
    {
     "data": {
      "image/png": "[encoded data removed]",
      "text/plain": [
       "<Figure size 432x288 with 1 Axes>"
      ]
     },
     "metadata": {},
     "output_type": "display_data"
    }
   ],
   "source": [
    "# Generate a pie plot showing the distribution of female versus male mice using pyplot\n",
    "explode = (0.01, 0.01)\n",
    "plt.pie(new_mouse_data_groupby, labels = [\"Female\", 'Male'], explode = explode, \n",
    "        autopct = '%1.1f%%', radius = 1, labeldistance = 0.4, pctdistance = 1.12, )\n",
    "plt.title(\"Mice Gender Distribution\", loc='left')\n",
    "plt.show()"
   ]
  },
  {
   "cell_type": "markdown",
   "metadata": {},
   "source": [
    "## Quartiles, Outliers and Boxplots"
   ]
  },
  {
   "cell_type": "code",
   "execution_count": 30,
   "metadata": {},
   "outputs": [],
   "source": [
    "# Calculate the final tumor volume of each mouse across four of the treatment regimens:  \n",
    "# Capomulin, Ramicane, Infubinol, and Ceftamin\n",
    "# Start by getting the last (greatest) timepoint for each mouse\n",
    "# Merge this group df with the original dataframe to get the tumor volume at the last timepoint\n",
    "\n",
    "tumorMax = new_mouse_data.groupby('Mouse ID')['Timepoint'].max().reset_index()\\\n",
    ".merge(new_mouse_data,on=['Mouse ID','Timepoint'],how='left')\n",
    "tumorMax.head()\n",
    "\n",
    "Capomulin = tumorMax.loc[tumorMax['Drug Regimen'] == 'Capomulin']['Tumor Volume (mm3)']\n",
    "Ramicane = tumorMax.loc[tumorMax['Drug Regimen'] == 'Ramicane']['Tumor Volume (mm3)']\n",
    "Infubinol = tumorMax.loc[tumorMax['Drug Regimen'] == 'Infubinol']['Tumor Volume (mm3)']\n",
    "Ceftamin = tumorMax.loc[tumorMax['Drug Regimen'] == 'Ceftamin']['Tumor Volume (mm3)']\n"
   ]
  },
  {
   "cell_type": "code",
   "execution_count": 31,
   "metadata": {},
   "outputs": [
    {
     "name": "stdout",
     "output_type": "stream",
     "text": [
      "Capomulin potential outliers: Series([], Name: Tumor Volume (mm3), dtype: float64)\n",
      "Ramicane potential outliers: Series([], Name: Tumor Volume (mm3), dtype: float64)\n",
      "Infubinol potential outliers: 31    36.321346\n",
      "Name: Tumor Volume (mm3), dtype: float64\n",
      "Ceftamin potential outliers: Series([], Name: Tumor Volume (mm3), dtype: float64)\n"
     ]
    }
   ],
   "source": [
    "# Put treatments into a list for for loop (and later for plot labels)\n",
    "# Create empty list to fill with tumor vol data (for plotting)\n",
    "# Calculate the IQR and quantitatively determine if there are any potential outliers. \n",
    "# Locate the rows which contain mice on each drug and get the tumor volumes\n",
    "# add subset \n",
    "# Determine outliers using upper and lower bounds\n",
    "\n",
    "\n",
    "#Calculated the 5 summary statistics for the 4 drug regimens:\n",
    "Capomulin_Quartile = Capomulin.quantile([0.25,0.5,0.75])\n",
    "Cap_lowerq = Capomulin_Quartile[0.25]\n",
    "Cap_higherq = Capomulin_Quartile[0.75]\n",
    "Cap_IQR = Cap_higherq - Cap_lowerq\n",
    "Cap_lowerbound = Cap_lowerq - (1.5 * Cap_IQR)\n",
    "Cap_higherbound = Cap_higherq + (1.5 * Cap_IQR)\n",
    "print(f\"Capomulin potential outliers: {Capomulin.loc[(Capomulin < Cap_lowerbound)]}\")\n",
    "\n",
    "Ramicane_Quartile = Ramicane.quantile([0.25,0.5,0.75])\n",
    "Ram_lowerq = Ramicane_Quartile[0.25]\n",
    "Ram_higherq = Ramicane_Quartile[0.75]\n",
    "Ram_IQR = Ram_higherq - Ram_lowerq\n",
    "Ram_lowerbound = Ram_lowerq - (1.5 * Ram_IQR)\n",
    "Ram_higherbound = Ram_higherq + (1.5 * Ram_IQR)\n",
    "print(f\"Ramicane potential outliers: {Ramicane.loc[(Ramicane < Ram_lowerbound)]}\")\n",
    "\n",
    "Infubinol_Quartile = Infubinol.quantile([0.25,0.5,0.75])\n",
    "Inf_lowerq = Infubinol_Quartile[0.25]\n",
    "Inf_higherq = Infubinol_Quartile[0.75]\n",
    "Inf_IQR = Inf_higherq - Inf_lowerq\n",
    "Inf_lowerbound = Inf_lowerq - (1.5 * Inf_IQR)\n",
    "Inf_higherbound = Inf_higherq + (1.5 * Inf_IQR)\n",
    "print(f\"Infubinol potential outliers: {Infubinol.loc[(Infubinol < Inf_lowerbound)]}\")\n",
    "\n",
    "Ceftamin_Quartile = Ceftamin.quantile([0.25,0.5,0.75])\n",
    "Cef_lowerq = Ceftamin_Quartile[0.25]\n",
    "Cef_higherq = Ceftamin_Quartile[0.75]\n",
    "Cef_IQR = Cef_higherq - Cef_lowerq\n",
    "Cef_lowerbound = Cef_lowerq - (1.5 * Cef_IQR)\n",
    "Cef_higherbound = Cef_higherq + (1.5 * Cef_IQR)\n",
    "print(f\"Ceftamin potential outliers: {Ceftamin.loc[(Ceftamin < Cef_lowerbound)]}\")\n",
    "    "
   ]
  },
  {
   "cell_type": "code",
   "execution_count": 32,
   "metadata": {},
   "outputs": [
    {
     "data": {
      "image/png": "[encoded data removed]",
      "text/plain": [
       "<Figure size 432x288 with 1 Axes>"
      ]
     },
     "metadata": {
      "needs_background": "light"
     },
     "output_type": "display_data"
    }
   ],
   "source": [
    "# Generate a box plot of the final tumor volume of each mouse across four regimens of interest\n",
    "\n",
    "#Created list of treatments.\n",
    "treatment_list = [Capomulin, Ramicane, Infubinol, Ceftamin]\n",
    "\n",
    "#made sublplots to display multiple plots on one figure.\n",
    "fig1, ax1 = plt.subplots()\n",
    "\n",
    "#Labels:\n",
    "ax1.set_title('Tumors')\n",
    "ax1.set_ylabel('Final Tumor Volume (mm3)')\n",
    "ax1.set_xlabel('Drug Regimen')\n",
    "\n",
    "#Created and added boxplots\n",
    "plt.boxplot(treatment_list, labels = [\"Capomulin\",\"Ramicane\", \"Infubinol\", \"Ceftamin\"])\n",
    "\n",
    "plt.show()"
   ]
  },
  {
   "cell_type": "markdown",
   "metadata": {},
   "source": [
    "## Line and Scatter Plots"
   ]
  },
  {
   "cell_type": "code",
   "execution_count": 33,
   "metadata": {},
   "outputs": [
    {
     "data": {
      "image/png": "[encoded data removed]",
      "text/plain": [
       "<Figure size 432x288 with 1 Axes>"
      ]
     },
     "metadata": {
      "needs_background": "light"
     },
     "output_type": "display_data"
    }
   ],
   "source": [
    "# Generate a line plot of time point versus tumor volume for a mouse treated with Capomulin\n",
    "\n",
    "#Got the two variables and stored into dataframe then located all the mice that had Capomulin. \n",
    "#Again located specific mouse 'r157' and got all the data for that mouse.\n",
    "df = new_mouse_data[['Timepoint','Tumor Volume (mm3)', 'Drug Regimen','Mouse ID']]\n",
    "Capomulin_data = df.loc[df['Drug Regimen'] == 'Capomulin',:]\n",
    "r157_data = Capomulin_data.loc[Capomulin_data['Mouse ID'] == 'r157',:]\n",
    "\n",
    "#Plotted the mouse timepoint and tumor volume (mm3).\n",
    "plt.plot(r157_data['Timepoint'], r157_data['Tumor Volume (mm3)'])\n",
    "\n",
    "#Labels:\n",
    "plt.xlabel(\"Timepoint\")\n",
    "plt.ylabel('Tumor Volume (mm3)')\n",
    "plt.title(\"Mouse r157 Treatment Data\")\n",
    "\n",
    "plt.show()"
   ]
  },
  {
   "cell_type": "code",
   "execution_count": 34,
   "metadata": {},
   "outputs": [
    {
     "data": {
      "image/png": "[encoded data removed]",
      "text/plain": [
       "<Figure size 432x288 with 1 Axes>"
      ]
     },
     "metadata": {
      "needs_background": "light"
     },
     "output_type": "display_data"
    }
   ],
   "source": [
    "# Generate a scatter plot of mouse weight versus average tumor volume for the Capomulin regimen\n",
    "# plt.scatter(r157_data['Timepoint'], r157_data['Tumor Volume (mm3)'])\n",
    "\n",
    "#Used 'tumorMax' dataframe from previous to find all the mice treated with Capomulin.\n",
    "#Grouped them by 'Mouse ID' and found the mean for each datapoint column.\n",
    "Capomulin = tumorMax.loc[tumorMax['Drug Regimen'] == 'Capomulin']\n",
    "Capomulin_average= Capomulin.groupby(['Mouse ID']).mean()\n",
    "\n",
    "#Plotted variables into a scatter plot\n",
    "plt.scatter(Capomulin_average['Weight (g)'], Capomulin_average['Tumor Volume (mm3)'], color = 'purple', alpha = 0.5)\n",
    "\n",
    "#Labels:\n",
    "plt.xlabel('Weight')\n",
    "plt.title('Mice Capomulin Treatment')\n",
    "plt.ylabel('Average Tumor Volume (mm3)')\n",
    "plt.show()"
   ]
  },
  {
   "cell_type": "markdown",
   "metadata": {},
   "source": [
    "## Correlation and Regression"
   ]
  },
  {
   "cell_type": "code",
   "execution_count": 35,
   "metadata": {},
   "outputs": [
    {
     "data": {
      "image/png": "[encoded data removed]",
      "text/plain": [
       "<Figure size 432x288 with 1 Axes>"
      ]
     },
     "metadata": {
      "needs_background": "light"
     },
     "output_type": "display_data"
    },
    {
     "name": "stdout",
     "output_type": "stream",
     "text": [
      "Correlation Coeffecient: 0.88\n",
      "Slope: 1.75\n",
      "Y-Intercept: 1.45\n",
      "R-value: 0.88\n",
      "P-value: 9.0844290886732e-09\n",
      "Standard Deviation: 0.2\n"
     ]
    }
   ],
   "source": [
    "# Calculate the correlation coefficient and linear regression model \n",
    "# for mouse weight and average tumor volume for the Capomulin regimen\n",
    "\n",
    "#Found correlation coefficient using 'pearsonr' sklearn function and [0] indexed to pull the correlation.\n",
    "correlation_coefficient = st.pearsonr(Capomulin_average['Weight (g)'],Capomulin_average['Tumor Volume (mm3)'])[0]\n",
    "\n",
    "#Used sklearn 'linregress' function to get the linear regression model values and unpacked values using tuple.\n",
    "(slope, intercept, rvalue, pvalue, stderr) = st.linregress(Capomulin_average['Weight (g)'],Capomulin_average['Tumor Volume (mm3)'])\n",
    "\n",
    "#Calculated regression line using y=mx+b formula.\n",
    "y = slope * Capomulin_average['Weight (g)'] + intercept\n",
    "\n",
    "#Plotted original scatter plot and then plotted regression line in the same figure.\n",
    "plt.scatter(Capomulin_average['Weight (g)'],Capomulin_average['Tumor Volume (mm3)'], color = 'purple', alpha = 0.5)\n",
    "plt.plot(Capomulin_average['Weight (g)'], y, color = 'Orange')\n",
    "\n",
    "#Labels:\n",
    "plt.xlabel('Weight')\n",
    "plt.ylabel('Average Tumor Volume (mm3)')\n",
    "plt.title('Mice Capomulin Treatment')\n",
    "\n",
    "plt.show()\n",
    "\n",
    "#Printed all the necessary values for reference:\n",
    "print(f\"Correlation Coeffecient: {round(correlation_coefficient, 2)}\")\n",
    "print(f\"Slope: {round(slope, 2)}\")\n",
    "print(f\"Y-Intercept: {round(intercept, 2)}\")\n",
    "print(f\"R-value: {round(rvalue, 2)}\")\n",
    "print(f\"P-value: {pvalue}\")\n",
    "print(f\"Standard Deviation: {round(stderr, 2)}\")"
   ]
  },
  {
   "cell_type": "code",
   "execution_count": null,
   "metadata": {},
   "outputs": [],
   "source": []
  }
 ],
 "metadata": {
  "anaconda-cloud": {},
  "kernelspec": {
   "display_name": "Python 3",
   "language": "python",
   "name": "python3"
  },
  "language_info": {
   "codemirror_mode": {
    "name": "ipython",
    "version": 3
   },
   "file_extension": ".py",
   "mimetype": "text/x-python",
   "name": "python",
   "nbconvert_exporter": "python",
   "pygments_lexer": "ipython3",
   "version": "3.7.7"
  }
 },
 "nbformat": 4,
 "nbformat_minor": 4
}
